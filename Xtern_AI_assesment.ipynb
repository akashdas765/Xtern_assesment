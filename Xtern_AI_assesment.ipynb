{
 "cells": [
  {
   "cell_type": "code",
   "execution_count": 5,
   "id": "d964498e",
   "metadata": {},
   "outputs": [],
   "source": [
    "import pandas as pd\n",
    "import numpy as np\n",
    "import matplotlib.pyplot as plt\n",
    "import seaborn as sns\n",
    "\n",
    "#to ignore warnings\n",
    "import warnings\n",
    "warnings.filterwarnings('ignore')\n",
    "\n",
    "\n",
    "from sklearn.metrics import confusion_matrix \n",
    "from sklearn.model_selection import train_test_split \n",
    "from sklearn.preprocessing import LabelEncoder\n",
    "\n",
    " \n",
    "from sklearn.tree import DecisionTreeClassifier \n",
    "from sklearn.neighbors import KNeighborsClassifier \n",
    "from sklearn import svm\n",
    "\n",
    "\n",
    "\n",
    "from sklearn.metrics import accuracy_score\n",
    "from sklearn.metrics import f1_score\n",
    "import pickle\n"
   ]
  },
  {
   "cell_type": "code",
   "execution_count": null,
   "id": "b3233ed5",
   "metadata": {},
   "outputs": [],
   "source": [
    "### `read_data` Function\n",
    "\n",
    "The `read_data` function is utilized to read a CSV file and transform it into a machine-readable format. It accomplishes this by performing the following tasks:\n",
    "\n",
    "1. **Reading Data from CSV:**\n",
    "   - Reads data from a CSV file specified by the `file` parameter using the Pandas library and stores it in a DataFrame named `data`.\n",
    "\n",
    "2. **Printing the First 5 Rows:**\n",
    "   - Prints the first 5 rows of the DataFrame using `data.head()` to provide a quick preview of the data.\n",
    "\n",
    "3. **Printing Data Information:**\n",
    "   - Prints information about the DataFrame using `data.info()`. This information includes data types of columns, the number of non-null values, and memory usage.\n",
    "\n",
    "4. **Printing Summary Statistics:**\n",
    "   - Prints summary statistics of the DataFrame using `data.describe()`. This includes count, mean, standard deviation, minimum, and maximum values for numerical columns.\n",
    "\n",
    "5. **Counting Missing Values:**\n",
    "   - Prints the count of missing values in each column using `data.isnull().sum()`.\n",
    "\n",
    "6. **Counting Unique Classes:**\n",
    "   - Prints the number of unique classes in the 'Order' column to provide an idea of the number of unique categories or labels in that specific column.\n",
    "\n",
    "7. **Label Encoding:**\n",
    "   - Performs label encoding on specific columns ('Year', 'Major', 'University', and 'Order') using scikit-learn's LabelEncoder. This step converts categorical data into numerical values, making it suitable for machine learning models that require numerical input.\n",
    "\n",
    "8. **Data Separation:**\n",
    "   - Separates the data into feature variables (X) and the target variable (y). It assumes that the last column in the DataFrame is the target variable. The X variable includes all columns except the last one, and the y variable contains the last column.\n",
    "\n",
    "9. **Data Splitting:**\n",
    "   - Splits the data into training and testing sets using scikit-learn's `train_test_split` function. It assigns 80% of the data to the training set (`X_train` and `y_train`) and 20% to the testing set (`X_test` and `y_test`).\n",
    "\n",
    "The `read_data` function is an essential data preparation step, transforming raw CSV data into a format suitable for machine learning, performing exploratory data analysis, and preparing the data for subsequent modeling and analysis.\n"
   ]
  },
  {
   "cell_type": "code",
   "execution_count": 6,
   "id": "a237fd37",
   "metadata": {},
   "outputs": [],
   "source": [
    "def read_data(file):\n",
    "    \n",
    "    data = pd.read_csv(file)\n",
    "    print(data.head())\n",
    "    print(data.info())\n",
    "    print(data.describe())\n",
    "    print(data.isnull().sum())\n",
    "    print(\"Number of Classes  :\",len(data['Order'].unique()))\n",
    "    \n",
    "    le= LabelEncoder()\n",
    "    data['Year'] = le.fit_transform(data['Year'])\n",
    "    data['Major'] = le.fit_transform(data['Major'])\n",
    "    data['University'] = le.fit_transform(data['University'])\n",
    "    data['Order'] = le.fit_transform(data['Order'])\n",
    "    \n",
    "    X = data.iloc[:, 0:-1]\n",
    "    y = data.iloc[:, -1]\n",
    "    X_train, X_test, y_train, y_test = train_test_split(X, y,train_size = 0.8, test_size = 0.2, random_state = 42)\n",
    "    return X_train, X_test, y_train, y_test                                               \n",
    "    "
   ]
  },
  {
   "cell_type": "markdown",
   "id": "05e30772",
   "metadata": {},
   "source": [
    "### `training_dtree` Function\n",
    "\n",
    "The `training_dtree` function is designed to train a Decision Tree classifier model, evaluate its performance, and save the trained model to a file. Below is a breakdown of what this function does:\n",
    "\n",
    "1. **Training a Decision Tree Classifier:**\n",
    "   - Trains a Decision Tree classifier model with a maximum depth of 10 using scikit-learn's `DecisionTreeClassifier`. The training is performed with the provided training data (`X_train` for features and `y_train` for target labels).\n",
    "\n",
    "2. **Making Predictions:**\n",
    "   - Uses the trained Decision Tree model to make predictions on the test data (`X_test`) and stores the predicted labels in the `pred` variable.\n",
    "\n",
    "3. **Calculating Accuracy:**\n",
    "   - Calculates the accuracy of the model's predictions using scikit-learn's `accuracy_score` function, which measures how well the model performs on the test data.\n",
    "\n",
    "4. **Calculating F1 Score:**\n",
    "   - Calculates the F1 score using scikit-learn's `f1_score` function. The F1 score is a measure of model accuracy that takes both precision and recall into account. It is calculated with a weighted average ('weighted') option.\n",
    "\n",
    "5. **Saving the Model:**\n",
    "   - Persists the trained Decision Tree model by saving it to a file named 'finalized_model_dtree.sav' using the `pickle.dump` function. This allows for future use of the model.\n",
    "\n",
    "6. **Printing Accuracy and F1 Score:**\n",
    "   - Prints the accuracy and F1 score as percentages, rounded to two decimal places using the `print` function.\n",
    "\n",
    "7. **Returning Results:**\n",
    "   - Returns three values: accuracy, F1 score, and the filename under which the trained model is saved.\n",
    "\n",
    "The purpose of this function is to facilitate the training and evaluation of a Decision Tree classifier model as part of a machine learning workflow.\n"
   ]
  },
  {
   "cell_type": "code",
   "execution_count": 7,
   "id": "e8d0cdb4",
   "metadata": {},
   "outputs": [],
   "source": [
    "def training_dtree(X_train,X_test,y_train,y_test):\n",
    "    \n",
    "    dtree_model = DecisionTreeClassifier(max_depth = 10).fit(X_train, y_train) \n",
    "    pred = dtree_model.predict(X_test)\n",
    "    accuracy = accuracy_score(y_test,pred)\n",
    "    f1 = f1_score(y_test, pred, average='weighted')\n",
    "    \n",
    "    filename = 'finalized_model_dtree.sav'\n",
    "    pickle.dump(dtree_model, open(filename, 'wb'))\n",
    "    \n",
    "    print('Accuracy : ', \"%.2f\" % (accuracy*100))\n",
    "    print('F1 : ', \"%.2f\" % (f1*100))\n",
    "    return accuracy,f1,filename"
   ]
  },
  {
   "cell_type": "markdown",
   "id": "d7a9da67",
   "metadata": {},
   "source": [
    "### `training_svm` Function\n",
    "\n",
    "The `training_svm` function is designed to train a Support Vector Machine (SVM) classifier with an RBF (Radial Basis Function) kernel and evaluate its performance. Below is a breakdown of what this function does:\n",
    "\n",
    "1. **Training an SVM Classifier with RBF Kernel:**\n",
    "   - Trains an SVM classifier with an RBF kernel using scikit-learn's `SVC` (Support Vector Classification) class. The kernel is set to 'rbf', and other hyperparameters such as 'gamma' and 'C' are specified. The training is performed with the provided training data (`X_train` for features and `y_train` for target labels).\n",
    "\n",
    "2. **Making Predictions:**\n",
    "   - Uses the trained SVM model with the RBF kernel to make predictions on the test data (`X_test`) using `rbf.predict(X_test)`. The predicted labels are stored in the `pred` variable.\n",
    "\n",
    "3. **Calculating Accuracy:**\n",
    "   - Calculates the accuracy of the model's predictions using scikit-learn's `accuracy_score` function, which measures how well the model performs on the test data.\n",
    "\n",
    "4. **Calculating F1 Score:**\n",
    "   - Calculates the F1 score using scikit-learn's `f1_score` function. The F1 score is a measure of model accuracy that takes both precision and recall into account. It is calculated with a weighted average ('weighted') option.\n",
    "\n",
    "5. **Saving the Model:**\n",
    "   - Persists the trained SVM model with the RBF kernel by saving it to a file named 'finalized_model_svm.sav' using the `pickle.dump` function. This allows for future use of the model.\n",
    "\n",
    "6. **Printing Accuracy and F1 Score:**\n",
    "   - Prints the accuracy and F1 score as percentages, rounded to two decimal places using the `print` function.\n",
    "\n",
    "7. **Returning Results:**\n",
    "   - Returns three values: accuracy, F1 score, and the filename under which the trained model is saved.\n",
    "\n",
    "The `training_svm` function is a crucial part of a machine learning workflow, where it trains an SVM classifier and evaluates its performance while also providing a means to save the model for future use.\n"
   ]
  },
  {
   "cell_type": "code",
   "execution_count": 8,
   "id": "d4a21e3b",
   "metadata": {},
   "outputs": [],
   "source": [
    "def training_svm(X_train,X_test,y_train,y_test):\n",
    "    \n",
    "    rbf = svm.SVC(kernel='rbf', gamma=0.5, C=0.1).fit(X_train, y_train)\n",
    "    pred = rbf.predict(X_test)\n",
    "    accuracy = accuracy_score(y_test, pred)\n",
    "    f1 = f1_score(y_test, pred, average='weighted')\n",
    "    \n",
    "    filename = 'finalized_model_svm.sav'\n",
    "    pickle.dump(rbf, open(filename, 'wb'))\n",
    "    \n",
    "    print('Accuracy : ', \"%.2f\" % (accuracy*100))\n",
    "    print('F1 : ', \"%.2f\" % (f1*100))\n",
    "    return accuracy,f1,filename\n"
   ]
  },
  {
   "cell_type": "markdown",
   "id": "32909502",
   "metadata": {},
   "source": [
    "### `training_knn` Function\n",
    "\n",
    "The `training_knn` function is designed for training a k-Nearest Neighbors (k-NN) classifier and evaluating its performance. Below is a breakdown of what this function does:\n",
    "\n",
    "1. **Training a k-NN Classifier:**\n",
    "   - It trains a k-Nearest Neighbors (k-NN) classifier using scikit-learn's `KNeighborsClassifier`. The number of neighbors (k) is set to 10, and the training is performed with the provided training data (`X_train` for features and `y_train` for target labels).\n",
    "\n",
    "2. **Making Predictions:**\n",
    "   - The trained k-NN model is used to make predictions on the test data (`X_test`) using `knn.predict(X_test)`. The predicted labels are stored in the `pred` variable.\n",
    "\n",
    "3. **Calculating Accuracy:**\n",
    "   - The function calculates the accuracy of the model's predictions using scikit-learn's `accuracy_score` function, which measures how well the model performs on the test data.\n",
    "\n",
    "4. **Calculating F1 Score:**\n",
    "   - It calculates the F1 score using scikit-learn's `f1_score` function. The F1 score is a measure of model accuracy that takes both precision and recall into account. It is calculated with a weighted average ('weighted') option.\n",
    "\n",
    "5. **Saving the Model:**\n",
    "   - The trained k-NN model is saved to a file named 'finalized_model_knn.sav' using the `pickle.dump` function. This allows for persisting the model for future use.\n",
    "\n",
    "6. **Printing Accuracy and F1 Score:**\n",
    "   - The function prints the accuracy and F1 score as percentages, rounded to two decimal places using the `print` function.\n",
    "\n",
    "7. **Returning Results:**\n",
    "   - The function returns three values: accuracy, F1 score, and the filename under which the trained model is saved.\n",
    "\n",
    "The `training_knn` function is a crucial component of a machine learning workflow, where it trains a k-Nearest Neighbors classifier, assesses its performance, and provides a way to save the model for future use.\n"
   ]
  },
  {
   "cell_type": "code",
   "execution_count": 9,
   "id": "9c04977a",
   "metadata": {},
   "outputs": [],
   "source": [
    "def training_knn(X_train,X_test,y_train,y_test):\n",
    "    \n",
    "    knn = KNeighborsClassifier(n_neighbors = 10).fit(X_train, y_train)\n",
    "    pred = knn.predict(X_test)\n",
    "    accuracy = accuracy_score(y_test,pred)\n",
    "    f1 = f1_score(y_test, pred, average='weighted')\n",
    "     \n",
    "    filename = 'finalized_model_knn.sav'\n",
    "    pickle.dump(knn, open(filename, 'wb'))\n",
    "    \n",
    "    print('Accuracy : ', \"%.2f\" % (accuracy*100))\n",
    "    print('F1 : ', \"%.2f\" % (f1*100))\n",
    "    return accuracy,f1,filename\n"
   ]
  },
  {
   "cell_type": "code",
   "execution_count": 10,
   "id": "f596d7cd",
   "metadata": {},
   "outputs": [
    {
     "name": "stdout",
     "output_type": "stream",
     "text": [
      "     Year                    Major                University  Time  \\\n",
      "0  Year 2                  Physics  Indiana State University    12   \n",
      "1  Year 3                Chemistry     Ball State University    14   \n",
      "2  Year 3                Chemistry         Butler University    12   \n",
      "3  Year 2                  Biology  Indiana State University    11   \n",
      "4  Year 3  Business Administration         Butler University    12   \n",
      "\n",
      "                                               Order  \n",
      "0                               Fried Catfish Basket  \n",
      "1                                    Sugar Cream Pie  \n",
      "2                                 Indiana Pork Chili  \n",
      "3                               Fried Catfish Basket  \n",
      "4  Indiana Corn on the Cob (brushed with garlic b...  \n",
      "<class 'pandas.core.frame.DataFrame'>\n",
      "RangeIndex: 5000 entries, 0 to 4999\n",
      "Data columns (total 5 columns):\n",
      " #   Column      Non-Null Count  Dtype \n",
      "---  ------      --------------  ----- \n",
      " 0   Year        5000 non-null   object\n",
      " 1   Major       5000 non-null   object\n",
      " 2   University  5000 non-null   object\n",
      " 3   Time        5000 non-null   int64 \n",
      " 4   Order       5000 non-null   object\n",
      "dtypes: int64(1), object(4)\n",
      "memory usage: 195.4+ KB\n",
      "None\n",
      "              Time\n",
      "count  5000.000000\n",
      "mean     12.528200\n",
      "std       1.357193\n",
      "min       8.000000\n",
      "25%      12.000000\n",
      "50%      13.000000\n",
      "75%      13.000000\n",
      "max      17.000000\n",
      "Year          0\n",
      "Major         0\n",
      "University    0\n",
      "Time          0\n",
      "Order         0\n",
      "dtype: int64\n",
      "Number of Classes  : 10\n"
     ]
    }
   ],
   "source": [
    "X_train,X_test,y_train,y_test = read_data(\"XTern 2024 Artificial Intelegence Data Set - Xtern_TrainData.csv\")\n"
   ]
  },
  {
   "cell_type": "markdown",
   "id": "9c952f39",
   "metadata": {},
   "source": [
    "```python\n",
    "# Train and Evaluate Three Different Machine Learning Models\n",
    "\n",
    "# Train a Decision Tree model and store the results\n",
    "acc_dtree, f1_dtree, dtree_mod = training_dtree(X_train, X_test, y_train, y_test)\n",
    "\n",
    "# Train an SVM model and store the results\n",
    "acc_svm, f1_svm, svm_mod = training_svm(X_train, X_test, y_train, y_test)\n",
    "\n",
    "# Train a k-Nearest Neighbors (k-NN) model and store the results\n",
    "acc_knn, f1_knn, knn_mod = training_knn(X_train, X_test, y_train, y_test)\n"
   ]
  },
  {
   "cell_type": "code",
   "execution_count": 11,
   "id": "0976a392",
   "metadata": {},
   "outputs": [
    {
     "name": "stdout",
     "output_type": "stream",
     "text": [
      "Accuracy :  64.10\n",
      "F1 :  63.77\n",
      "Accuracy :  58.90\n",
      "F1 :  58.58\n",
      "Accuracy :  61.70\n",
      "F1 :  61.13\n"
     ]
    }
   ],
   "source": [
    "acc_dtree,f1_dtree,dtree_mod = training_dtree(X_train,X_test,y_train,y_test)\n",
    "acc_svm,f1_svm,svm_mod = training_svm(X_train,X_test,y_train,y_test)\n",
    "acc_knn,f1_knn,knn_mod = training_knn(X_train,X_test,y_train,y_test)"
   ]
  },
  {
   "cell_type": "markdown",
   "id": "ce60e92d",
   "metadata": {},
   "source": [
    "```python\n",
    "# Load the Trained Decision Tree Model\n",
    "dtree_model = pickle.load(open(dtree_mod, 'rb'))\n",
    "\n",
    "# Evaluate the Decision Tree Model on the Test Data\n",
    "accuracy = dtree_model.score(X_test, y_test)\n"
   ]
  },
  {
   "cell_type": "code",
   "execution_count": 12,
   "id": "a6912d10",
   "metadata": {},
   "outputs": [
    {
     "name": "stdout",
     "output_type": "stream",
     "text": [
      "Accuracy for Decision Tree :  64.1\n"
     ]
    }
   ],
   "source": [
    "dtree_model = pickle.load(open(dtree_mod, 'rb'))\n",
    "accuracy = dtree_model.score(X_test, y_test)\n",
    "print(\"Accuracy for Decision Tree : \",accuracy*100)"
   ]
  },
  {
   "cell_type": "markdown",
   "id": "cc45704f",
   "metadata": {},
   "source": [
    "```python\n",
    "# Load the Trained SVM Model\n",
    "svm_model = pickle.load(open(svm_mod, 'rb'))\n",
    "\n",
    "# Evaluate the Decision Tree Model on the Test Data\n",
    "accuracy = dtree_model.score(X_test, y_test)\n",
    "\n"
   ]
  },
  {
   "cell_type": "code",
   "execution_count": 13,
   "id": "4935f9dd",
   "metadata": {},
   "outputs": [
    {
     "name": "stdout",
     "output_type": "stream",
     "text": [
      "Accuracy for Support Vector Machines :  58.9\n"
     ]
    }
   ],
   "source": [
    "svm_model = pickle.load(open(svm_mod, 'rb'))\n",
    "accuracy = svm_model.score(X_test, y_test)\n",
    "print(\"Accuracy for Support Vector Machines : \",accuracy*100)"
   ]
  },
  {
   "cell_type": "markdown",
   "id": "f4514911",
   "metadata": {},
   "source": [
    "```python\n",
    "# Load the Trained KNN Model\n",
    "knn_model = pickle.load(open(knn_mod, 'rb'))\n",
    "\n",
    "# Evaluate the Decision Tree Model on the Test Data\n",
    "accuracy = dtree_model.score(X_test, y_test)\n",
    "\n"
   ]
  },
  {
   "cell_type": "code",
   "execution_count": 14,
   "id": "2954edd1",
   "metadata": {},
   "outputs": [
    {
     "name": "stdout",
     "output_type": "stream",
     "text": [
      "Accuracy for K-Nearest-Neighbour :  61.7\n"
     ]
    }
   ],
   "source": [
    "knn_model = pickle.load(open(knn_mod, 'rb'))\n",
    "accuracy = knn_model.score(X_test, y_test)\n",
    "print(\"Accuracy for K-Nearest-Neighbour : \",accuracy*100)"
   ]
  }
 ],
 "metadata": {
  "kernelspec": {
   "display_name": "Python 3 (ipykernel)",
   "language": "python",
   "name": "python3"
  },
  "language_info": {
   "codemirror_mode": {
    "name": "ipython",
    "version": 3
   },
   "file_extension": ".py",
   "mimetype": "text/x-python",
   "name": "python",
   "nbconvert_exporter": "python",
   "pygments_lexer": "ipython3",
   "version": "3.11.4"
  }
 },
 "nbformat": 4,
 "nbformat_minor": 5
}
